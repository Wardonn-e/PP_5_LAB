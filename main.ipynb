{
 "cells": [
  {
   "cell_type": "code",
   "execution_count": 151,
   "id": "initial_id",
   "metadata": {
    "collapsed": true,
    "ExecuteTime": {
     "end_time": "2023-12-21T23:26:28.669850Z",
     "start_time": "2023-12-21T23:26:28.655368Z"
    }
   },
   "outputs": [],
   "source": [
    "import os\n",
    "import pandas as pd\n",
    "from nltk.corpus import stopwords\n",
    "from pymorphy3 import MorphAnalyzer\n",
    "import re\n",
    "from sklearn.model_selection import train_test_split\n",
    "from sklearn.feature_extraction.text import CountVectorizer\n",
    "import numpy as np\n",
    "\n",
    "from typing import List"
   ]
  },
  {
   "cell_type": "code",
   "execution_count": 152,
   "outputs": [],
   "source": [
    "patterns = \"[«»A-Za-z0-9!#$%&'()*+,./:;<=>?@[\\]^_`{|}~—\\\"\\-]+\"\n",
    "stopwords_ru = stopwords.words(\"russian\")\n",
    "morph = MorphAnalyzer()"
   ],
   "metadata": {
    "collapsed": false,
    "ExecuteTime": {
     "end_time": "2023-12-21T23:26:28.741916Z",
     "start_time": "2023-12-21T23:26:28.659934Z"
    }
   },
   "id": "fbe98cf47ee3c926"
  },
  {
   "cell_type": "code",
   "execution_count": 153,
   "outputs": [],
   "source": [
    "def create_dataframe_from_csv(csv_path: str) -> pd.DataFrame:\n",
    "    df_csv = pd.read_csv(csv_path)\n",
    "    txt = []\n",
    "    for absolute_path, rating in zip(df_csv['absolute_path'], df_csv['rating']):\n",
    "        # Чтение текста из файла\n",
    "        with open(absolute_path, 'r', encoding='utf-8') as file:\n",
    "            text = file.read()\n",
    "            # Добавление текста и рейтинга в список\n",
    "            txt.append((text, rating)) \n",
    "    return pd.DataFrame(txt, columns=['review', 'rating'])"
   ],
   "metadata": {
    "collapsed": false,
    "ExecuteTime": {
     "end_time": "2023-12-21T23:26:28.749136Z",
     "start_time": "2023-12-21T23:26:28.743678Z"
    }
   },
   "id": "7f74e371582266ad"
  },
  {
   "cell_type": "code",
   "execution_count": 154,
   "outputs": [
    {
     "name": "stdout",
     "output_type": "stream",
     "text": [
      "                                                 review  rating\n",
      "0     За стенкой. История Отиса Ревиаля\\nПлюсы:-Прия...       0\n",
      "1     Её тёмные крылья\\nПрочитала, дочитала, вымучил...       0\n",
      "2     Тринадцать\\nДичайше скучная история. Как миним...       0\n",
      "3     Моя дорогая Оли...\\nИ вот опять: с каждого угл...       0\n",
      "4     Почти идеальный брак\\nИтак, рецензии пишу редк...       0\n",
      "...                                                 ...     ...\n",
      "4995  До свидания, Рим!\\nЛёгкая книга, показывающая ...       4\n",
      "4996  Оппенгеймер. Триумф и трагедия Американского П...       4\n",
      "4997  Теория бесконечных обезьян\\nПокупая первую для...       4\n",
      "4998  Чёрные кувшинки\\nИстория убийств в уютной фран...       4\n",
      "4999  Бедовый месяц\\nДо сих пор не понимаю, что это ...       4\n",
      "\n",
      "[5000 rows x 2 columns]\n"
     ]
    }
   ],
   "source": [
    "df = create_dataframe_from_csv(os.path.join(\"/Users\", \"wardonne\", \"Desktop\", \"Lab_python\", \"PP_2_Lab\", \"1.csv\"))\n",
    "df['rating'] = df['rating'].replace(1,0).replace(2,1).replace(3,2).replace(4,3).replace(5,4)\n",
    "print(df)"
   ],
   "metadata": {
    "collapsed": false,
    "ExecuteTime": {
     "end_time": "2023-12-21T23:26:29.655848Z",
     "start_time": "2023-12-21T23:26:28.746505Z"
    }
   },
   "id": "4d58edf0227aabbb"
  },
  {
   "cell_type": "code",
   "execution_count": 155,
   "outputs": [],
   "source": [
    "def preprocess_and_lemmatize(review: str) -> str:\n",
    "    review = re.sub(patterns, ' ', review)\n",
    "    tokens = review.lower().split()\n",
    "    preprocessed_text = []\n",
    "    for token in tokens:\n",
    "        lemma = morph.parse(token)[0].normal_form\n",
    "        if lemma not in stopwords_ru:\n",
    "            preprocessed_text.append(lemma)\n",
    "    return ' '.join(preprocessed_text)"
   ],
   "metadata": {
    "collapsed": false,
    "ExecuteTime": {
     "end_time": "2023-12-21T23:26:29.663100Z",
     "start_time": "2023-12-21T23:26:29.655580Z"
    }
   },
   "id": "2e547c315c5dcf49"
  },
  {
   "cell_type": "code",
   "execution_count": 156,
   "outputs": [
    {
     "name": "stdout",
     "output_type": "stream",
     "text": [
      "                                              review  rating\n",
      "0  стенка история отис ревиаля плюс приятный слог...       0\n",
      "1  её тёмный крыло прочитать дочитать вымучить из...       0\n",
      "2  тринадцать дикий скучный история минимум треть...       0\n",
      "3  дорогой оля каждый угол кричать книга восхваля...       0\n",
      "4  идеальный брак итак рецензия писать редко прав...       0\n"
     ]
    }
   ],
   "source": [
    "df['review'] = df['review'].apply(preprocess_and_lemmatize)\n",
    "print(df.head())"
   ],
   "metadata": {
    "collapsed": false,
    "ExecuteTime": {
     "end_time": "2023-12-21T23:27:44.662651Z",
     "start_time": "2023-12-21T23:26:29.662534Z"
    }
   },
   "id": "6113a0d62c0a2547"
  },
  {
   "cell_type": "code",
   "execution_count": 157,
   "outputs": [],
   "source": [
    "vectorizer = CountVectorizer(max_features=15000)\n",
    "\n",
    "# Преобразование данных в матрицу\n",
    "sparse_matrix = vectorizer.fit_transform(df['review']).toarray()\n",
    "\n",
    "# Разделение данных\n",
    "x_train, x_test_valid, y_train, y_test_valid = train_test_split(\n",
    "    sparse_matrix, np.array(df['rating']), test_size=0.2\n",
    ")\n",
    "x_test, x_valid, y_test, y_valid = train_test_split(\n",
    "    x_test_valid, y_test_valid, test_size=0.5\n",
    ")"
   ],
   "metadata": {
    "collapsed": false,
    "ExecuteTime": {
     "end_time": "2023-12-21T23:27:45.459394Z",
     "start_time": "2023-12-21T23:27:44.707378Z"
    }
   },
   "id": "1807da9a3e3f79a9"
  },
  {
   "cell_type": "code",
   "execution_count": 158,
   "outputs": [
    {
     "name": "stdout",
     "output_type": "stream",
     "text": [
      "{0: 810, 1: 816, 2: 787, 3: 793, 4: 794}\n"
     ]
    }
   ],
   "source": [
    "class_counts = dict(zip(*np.unique(y_train, return_counts=True)))\n",
    "print(class_counts)"
   ],
   "metadata": {
    "collapsed": false,
    "ExecuteTime": {
     "end_time": "2023-12-21T23:28:05.508256Z",
     "start_time": "2023-12-21T23:28:05.506271Z"
    }
   },
   "id": "eacffc21647cce2a"
  },
  {
   "cell_type": "code",
   "execution_count": 157,
   "outputs": [],
   "source": [],
   "metadata": {
    "collapsed": false,
    "ExecuteTime": {
     "end_time": "2023-12-21T23:27:45.461316Z",
     "start_time": "2023-12-21T23:27:45.460023Z"
    }
   },
   "id": "4a72b78d6ad05646"
  }
 ],
 "metadata": {
  "kernelspec": {
   "display_name": "Python 3",
   "language": "python",
   "name": "python3"
  },
  "language_info": {
   "codemirror_mode": {
    "name": "ipython",
    "version": 2
   },
   "file_extension": ".py",
   "mimetype": "text/x-python",
   "name": "python",
   "nbconvert_exporter": "python",
   "pygments_lexer": "ipython2",
   "version": "2.7.6"
  }
 },
 "nbformat": 4,
 "nbformat_minor": 5
}
