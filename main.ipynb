{
 "cells": [
  {
   "cell_type": "code",
   "execution_count": 1,
   "id": "initial_id",
   "metadata": {
    "collapsed": true,
    "ExecuteTime": {
     "end_time": "2023-12-21T23:03:49.235970Z",
     "start_time": "2023-12-21T23:03:48.021463Z"
    }
   },
   "outputs": [],
   "source": [
    "import os\n",
    "import pandas as pd\n",
    "from nltk.corpus import stopwords\n",
    "from pymorphy3 import MorphAnalyzer"
   ]
  },
  {
   "cell_type": "code",
   "execution_count": 2,
   "outputs": [],
   "source": [
    "patterns = \"[«»A-Za-z0-9!#$%&'()*+,./:;<=>?@[\\]^_`{|}~—\\\"\\-]+\"\n",
    "stopwords_ru = stopwords.words(\"russian\")\n",
    "morph = MorphAnalyzer()"
   ],
   "metadata": {
    "collapsed": false,
    "ExecuteTime": {
     "end_time": "2023-12-21T23:03:49.321406Z",
     "start_time": "2023-12-21T23:03:49.234658Z"
    }
   },
   "id": "fbe98cf47ee3c926"
  },
  {
   "cell_type": "code",
   "execution_count": 3,
   "outputs": [],
   "source": [
    "def create_dataframe_from_csv(csv_path: str) -> pd.DataFrame:\n",
    "    df_csv = pd.read_csv(csv_path)\n",
    "    txt = []\n",
    "    for absolute_path, rating in zip(df_csv['absolute_path'], df_csv['rating']):\n",
    "        # Чтение текста из файла\n",
    "        with open(absolute_path, 'r', encoding='utf-8') as file:\n",
    "            text = file.read()\n",
    "            # Добавление текста и рейтинга в список\n",
    "            txt.append((text, rating)) \n",
    "    return pd.DataFrame(txt, columns=['review', 'rating'])"
   ],
   "metadata": {
    "collapsed": false,
    "ExecuteTime": {
     "end_time": "2023-12-21T23:03:49.331822Z",
     "start_time": "2023-12-21T23:03:49.323278Z"
    }
   },
   "id": "7f74e371582266ad"
  },
  {
   "cell_type": "code",
   "execution_count": 4,
   "outputs": [
    {
     "name": "stdout",
     "output_type": "stream",
     "text": [
      "                                              review  rating\n",
      "0  За стенкой. История Отиса Ревиаля\\nПлюсы:-Прия...       1\n",
      "1  Её тёмные крылья\\nПрочитала, дочитала, вымучил...       1\n",
      "2  Тринадцать\\nДичайше скучная история. Как миним...       1\n",
      "3  Моя дорогая Оли...\\nИ вот опять: с каждого угл...       1\n",
      "4  Почти идеальный брак\\nИтак, рецензии пишу редк...       1\n"
     ]
    }
   ],
   "source": [
    "df = create_dataframe_from_csv(os.path.join(\"/Users\", \"wardonne\", \"Desktop\", \"Lab_python\", \"PP_2_Lab\", \"1.csv\"))\n",
    "print(df.head())"
   ],
   "metadata": {
    "collapsed": false,
    "ExecuteTime": {
     "end_time": "2023-12-21T23:03:50.237673Z",
     "start_time": "2023-12-21T23:03:49.330784Z"
    }
   },
   "id": "4d58edf0227aabbb"
  }
 ],
 "metadata": {
  "kernelspec": {
   "display_name": "Python 3",
   "language": "python",
   "name": "python3"
  },
  "language_info": {
   "codemirror_mode": {
    "name": "ipython",
    "version": 2
   },
   "file_extension": ".py",
   "mimetype": "text/x-python",
   "name": "python",
   "nbconvert_exporter": "python",
   "pygments_lexer": "ipython2",
   "version": "2.7.6"
  }
 },
 "nbformat": 4,
 "nbformat_minor": 5
}
